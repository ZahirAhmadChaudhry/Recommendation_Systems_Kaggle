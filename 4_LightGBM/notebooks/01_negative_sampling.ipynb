{
 "cells": [
  {
   "cell_type": "markdown",
   "id": "eb0fc80c",
   "metadata": {},
   "source": [
    "# Negative Sampling for LightGBM Recommendation System\n",
    "\n",
    "This notebook demonstrates how to use the HybridNegativeSampler to generate negative samples for training a LightGBM recommendation model."
   ]
  },
  {
   "cell_type": "code",
   "execution_count": null,
   "id": "249209c5",
   "metadata": {},
   "outputs": [],
   "source": [
    "import sys\n",
    "import os\n",
    "\n",
    "# Add the src directory to the path so we can import our modules\n",
    "sys.path.append(os.path.join(os.path.dirname(os.getcwd()), 'src'))\n",
    "\n",
    "# Import the required modules\n",
    "from data.negative_sampler import HybridNegativeSampler\n",
    "from data.data_loader import load_interaction_features\n",
    "from utils.utils import get_default_config, save_to_csv\n",
    "\n",
    "import pandas as pd\n",
    "from tqdm import tqdm"
   ]
  },
  {
   "cell_type": "markdown",
   "id": "027dd4ea",
   "metadata": {},
   "source": [
    "## 1. Load Configuration and Data"
   ]
  },
  {
   "cell_type": "code",
   "execution_count": null,
   "id": "68f3c595",
   "metadata": {},
   "outputs": [],
   "source": [
    "# Get default configuration\n",
    "config = get_default_config()\n",
    "\n",
    "# Load interaction features\n",
    "interaction_features = load_interaction_features(config['data']['interaction_features_path'])\n",
    "print(f\"Loaded interaction features with shape: {interaction_features.shape}\")"
   ]
  },
  {
   "cell_type": "markdown",
   "id": "b83649a1",
   "metadata": {},
   "source": [
    "## 2. Initialize Negative Sampler"
   ]
  },
  {
   "cell_type": "code",
   "execution_count": null,
   "id": "5b16ebab",
   "metadata": {},
   "outputs": [],
   "source": [
    "# Initialize the sampler with default weights\n",
    "sampler = HybridNegativeSampler(\n",
    "    interaction_features=interaction_features,\n",
    "    popularity_weight=0.5,  # Weight for popularity (transaction count)\n",
    "    recency_weight=0.3,     # Weight for recency (days since last purchase)\n",
    "    promo_weight=0.2,       # Weight for promotion usage\n",
    "    device='cuda',          # Use GPU if available\n",
    "    verbose=True            # Print detailed logs\n",
    ")"
   ]
  },
  {
   "cell_type": "markdown",
   "id": "6d9ad178",
   "metadata": {},
   "source": [
    "## 3. Generate Negative Samples\n",
    "\n",
    "This will generate negative samples with a 1:1 ratio to positive samples. The process combines popularity, recency, and promotion signals to select the most relevant negative samples."
   ]
  },
  {
   "cell_type": "code",
   "execution_count": null,
   "id": "a0ea7e1b",
   "metadata": {},
   "outputs": [],
   "source": [
    "# Generate training data with both positive and negative samples\n",
    "training_data = sampler.generate_samples(\n",
    "    batch_size=10000,        # Process this many customers at once \n",
    "    neg_ratio=1,             # Generate 1 negative sample for each positive\n",
    "    min_samples_per_user=1   # Minimum number of negative samples per user\n",
    ")"
   ]
  },
  {
   "cell_type": "markdown",
   "id": "ba16a7fb",
   "metadata": {},
   "source": [
    "## 4. Examine the Results"
   ]
  },
  {
   "cell_type": "code",
   "execution_count": null,
   "id": "ac97420b",
   "metadata": {},
   "outputs": [],
   "source": [
    "# Display the first few rows\n",
    "training_data.head()"
   ]
  },
  {
   "cell_type": "code",
   "execution_count": null,
   "id": "d082c5cc",
   "metadata": {},
   "outputs": [],
   "source": [
    "# Check the class distribution\n",
    "print(\"Class distribution:\")\n",
    "print(training_data['target'].value_counts(normalize=True))"
   ]
  },
  {
   "cell_type": "markdown",
   "id": "e35ad2d2",
   "metadata": {},
   "source": [
    "## 5. Save the Training Data"
   ]
  },
  {
   "cell_type": "code",
   "execution_count": null,
   "id": "d47f4c7c",
   "metadata": {},
   "outputs": [],
   "source": [
    "# Save the generated training data to a Parquet file with gzip compression\n",
    "training_data.to_parquet(\n",
    "    config['data']['training_data_path'],\n",
    "    compression='gzip'\n",
    ")\n",
    "print(f\"Training data saved to {config['data']['training_data_path']}\")"
   ]
  }
 ],
 "metadata": {
  "language_info": {
   "name": "python"
  }
 },
 "nbformat": 4,
 "nbformat_minor": 5
}
