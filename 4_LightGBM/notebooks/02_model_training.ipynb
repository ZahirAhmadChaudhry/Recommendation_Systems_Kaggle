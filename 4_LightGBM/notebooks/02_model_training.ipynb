{
 "cells": [
  {
   "cell_type": "markdown",
   "id": "e93728a7",
   "metadata": {},
   "source": [
    "# LightGBM Model Training and Inference\n",
    "\n",
    "This notebook demonstrates how to train a LightGBM model and use it for generating product recommendations."
   ]
  },
  {
   "cell_type": "code",
   "execution_count": null,
   "id": "8a3ed8ae",
   "metadata": {},
   "outputs": [],
   "source": [
    "import sys\n",
    "import os\n",
    "\n",
    "# Add the src directory to the path so we can import our modules\n",
    "sys.path.append(os.path.join(os.path.dirname(os.getcwd()), 'src'))\n",
    "\n",
    "# Import the required modules\n",
    "from data.data_loader import load_interaction_features, load_test_data, prepare_train_test_split\n",
    "from model.lightgbm_model import train_lightgbm_model, predict_and_rank, get_feature_importance\n",
    "from model.evaluation import hitrate_at_k, format_submission\n",
    "from utils.utils import get_default_config, save_model, save_to_csv\n",
    "\n",
    "import pandas as pd\n",
    "import numpy as np\n",
    "import matplotlib.pyplot as plt\n",
    "import lightgbm as lgb"
   ]
  },
  {
   "cell_type": "markdown",
   "id": "4f262908",
   "metadata": {},
   "source": [
    "## 1. Load Configuration and Data"
   ]
  },
  {
   "cell_type": "code",
   "execution_count": null,
   "id": "230e6a5f",
   "metadata": {},
   "outputs": [],
   "source": [
    "# Get default configuration\n",
    "config = get_default_config()\n",
    "\n",
    "# Define feature columns to use\n",
    "numeric_features = config['features']['numeric_features']\n",
    "print(\"Using the following features:\", numeric_features)"
   ]
  },
  {
   "cell_type": "code",
   "execution_count": null,
   "id": "2dedcf11",
   "metadata": {},
   "outputs": [],
   "source": [
    "# Load training data\n",
    "training_data = pd.read_parquet('full_training_data_for_model')\n",
    "print(f\"Loaded training data with shape: {training_data.shape}\")\n",
    "training_data.info()"
   ]
  },
  {
   "cell_type": "markdown",
   "id": "9c597288",
   "metadata": {},
   "source": [
    "## 2. Prepare Data for Training"
   ]
  },
  {
   "cell_type": "code",
   "execution_count": null,
   "id": "b03b1acd",
   "metadata": {},
   "outputs": [],
   "source": [
    "# Prepare train-test split\n",
    "X_train, X_val, y_train, y_val = prepare_train_test_split(\n",
    "    training_data,\n",
    "    feature_columns=numeric_features,\n",
    "    target_column='target',\n",
    "    test_size=config['model']['test_size'],\n",
    "    random_state=config['model']['random_state']\n",
    ")\n",
    "\n",
    "print(f\"Training set shape: {X_train.shape}\")\n",
    "print(f\"Validation set shape: {X_val.shape}\")"
   ]
  },
  {
   "cell_type": "markdown",
   "id": "4a785b9f",
   "metadata": {},
   "source": [
    "## 3. Train LightGBM Model"
   ]
  },
  {
   "cell_type": "code",
   "execution_count": null,
   "id": "3439d591",
   "metadata": {},
   "outputs": [],
   "source": [
    "# Train the model\n",
    "model = train_lightgbm_model(\n",
    "    X_train, y_train, X_val, y_val,\n",
    "    params=config['model']['params'],\n",
    "    early_stopping_rounds=config['model']['early_stopping_rounds'],\n",
    "    verbose=True\n",
    ")"
   ]
  },
  {
   "cell_type": "code",
   "execution_count": null,
   "id": "aa79754e",
   "metadata": {},
   "outputs": [],
   "source": [
    "# Free memory (optional)\n",
    "del X_train, y_train, X_val, y_val"
   ]
  },
  {
   "cell_type": "markdown",
   "id": "3f86fdd6",
   "metadata": {},
   "source": [
    "## 4. Analyze Feature Importance"
   ]
  },
  {
   "cell_type": "code",
   "execution_count": null,
   "id": "4c4be1dc",
   "metadata": {},
   "outputs": [],
   "source": [
    "# Get feature importance\n",
    "feature_importance = get_feature_importance(model, numeric_features)\n",
    "feature_importance"
   ]
  },
  {
   "cell_type": "code",
   "execution_count": null,
   "id": "7d0ef0d5",
   "metadata": {},
   "outputs": [],
   "source": [
    "# Plot feature importance\n",
    "plt.figure(figsize=(10, 6))\n",
    "plt.barh(feature_importance['Feature'], feature_importance['Importance'])\n",
    "plt.xlabel('Importance')\n",
    "plt.ylabel('Feature')\n",
    "plt.title('LightGBM Feature Importance')\n",
    "plt.tight_layout()\n",
    "plt.show()"
   ]
  },
  {
   "cell_type": "markdown",
   "id": "ee9c330c",
   "metadata": {},
   "source": [
    "## 5. Generate Predictions on Test Data"
   ]
  },
  {
   "cell_type": "code",
   "execution_count": null,
   "id": "17e2861f",
   "metadata": {},
   "outputs": [],
   "source": [
    "# Load test data\n",
    "test_data = load_test_data(\n",
    "    test_path=config['data']['test_data_path'],\n",
    "    interaction_features_path=config['data']['interaction_features_path'],\n",
    "    needed_columns=numeric_features\n",
    ")\n",
    "print(f\"Loaded test data with shape: {test_data.shape}\")"
   ]
  },
  {
   "cell_type": "code",
   "execution_count": null,
   "id": "3a402410",
   "metadata": {},
   "outputs": [],
   "source": [
    "# Generate predictions and top-k recommendations\n",
    "test_data_with_preds, top_k_recommendations = predict_and_rank(\n",
    "    model,\n",
    "    test_data,\n",
    "    feature_columns=numeric_features,\n",
    "    top_k=config['evaluation']['top_k']\n",
    ")\n",
    "\n",
    "# Display top recommendations\n",
    "print(\"Top 10 Recommendations:\")\n",
    "top_k_recommendations.head(10)"
   ]
  },
  {
   "cell_type": "markdown",
   "id": "538029ce",
   "metadata": {},
   "source": [
    "## 6. Evaluate Model Performance"
   ]
  },
  {
   "cell_type": "code",
   "execution_count": null,
   "id": "16cf2ce4",
   "metadata": {},
   "outputs": [],
   "source": [
    "# Load true data for evaluation\n",
    "true_data = pd.read_csv(config['data']['test_data_path'], compression='gzip')\n",
    "print(f\"Loaded true data with shape: {true_data.shape}\")"
   ]
  },
  {
   "cell_type": "code",
   "execution_count": null,
   "id": "0c0dad6a",
   "metadata": {},
   "outputs": [],
   "source": [
    "# Calculate hitrate@k\n",
    "hitrate = hitrate_at_k(\n",
    "    true_data,\n",
    "    top_k_recommendations,\n",
    "    k=config['evaluation']['top_k']\n",
    ")\n",
    "print(f\"Hitrate@{config['evaluation']['top_k']}: {hitrate:.4f}\")"
   ]
  },
  {
   "cell_type": "markdown",
   "id": "b3898bb7",
   "metadata": {},
   "source": [
    "## 7. Prepare Submission File"
   ]
  },
  {
   "cell_type": "code",
   "execution_count": null,
   "id": "6f21fa0b",
   "metadata": {},
   "outputs": [],
   "source": [
    "# Filter recommendations for the submission\n",
    "submission = format_submission(\n",
    "    top_k_recommendations,\n",
    "    customer_range=config['submission']['customer_range']\n",
    ")\n",
    "\n",
    "# Display the submission\n",
    "submission.head()"
   ]
  },
  {
   "cell_type": "code",
   "execution_count": null,
   "id": "fa340c86",
   "metadata": {},
   "outputs": [],
   "source": [
    "# Number of customers in submission\n",
    "print(f\"Number of customers in submission: {submission.shape[0]}\")"
   ]
  },
  {
   "cell_type": "code",
   "execution_count": null,
   "id": "d3ba2187",
   "metadata": {},
   "outputs": [],
   "source": [
    "# Save the submission file\n",
    "save_to_csv(\n",
    "    submission,\n",
    "    path=config['submission']['output_path'],\n",
    "    index=False,\n",
    "    verbose=True\n",
    ")"
   ]
  }
 ],
 "metadata": {
  "language_info": {
   "name": "python"
  }
 },
 "nbformat": 4,
 "nbformat_minor": 5
}
